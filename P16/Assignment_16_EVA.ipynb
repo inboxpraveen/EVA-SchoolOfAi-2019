{
  "nbformat": 4,
  "nbformat_minor": 0,
  "metadata": {
    "colab": {
      "name": "Assignment 16 EVA.ipynb",
      "provenance": [],
      "collapsed_sections": []
    },
    "kernelspec": {
      "name": "python3",
      "display_name": "Python 3"
    },
    "accelerator": "GPU"
  },
  "cells": [
    {
      "cell_type": "markdown",
      "metadata": {
        "id": "RJyag54zSaj7",
        "colab_type": "text"
      },
      "source": [
        "### downloading the specified dataset and preprocessing it to converto tf_records\n",
        "\n",
        "\n",
        "Only few dataset names are mentioned and among them,\n",
        "\n",
        "1. Ciaf10\n",
        "2. MNIST\n",
        "\n",
        "are downloaded and shown how the conversion to tf_record happens.\n",
        "\n",
        "\n",
        "The same can be extended to multiple datasets"
      ]
    },
    {
      "cell_type": "code",
      "metadata": {
        "id": "sUZBfVW7b9Xt",
        "colab_type": "code",
        "outputId": "a099b439-bdb5-4e97-b3f8-6ef60ee59a2f",
        "colab": {
          "base_uri": "https://localhost:8080/",
          "height": 190
        }
      },
      "source": [
        "!pip install wget\n",
        "import wget\n",
        "import zipfile\n",
        "import tarfile\n",
        "import numpy as np\n",
        "import matplotlib.pyplot as plt\n",
        "import pickle\n",
        "\n",
        "def unpickle(file):\n",
        "    \"\"\"load the cifar-10 data\"\"\"\n",
        "\n",
        "    with open(file, 'rb') as fo:\n",
        "        data = pickle.load(fo, encoding='bytes')\n",
        "    return data\n",
        "\n",
        "\n",
        "def load_cifar_10_data(data_dir, negatives=False):\n",
        "    \"\"\"\n",
        "    Return train_data, train_filenames, train_labels, test_data, test_filenames, test_labels\n",
        "    \"\"\"\n",
        "\n",
        "    # get the meta_data_dict\n",
        "    # num_cases_per_batch: 1000\n",
        "    # label_names: ['airplane', 'automobile', 'bird', 'cat', 'deer', 'dog', 'frog', 'horse', 'ship', 'truck']\n",
        "    # num_vis: :3072\n",
        "\n",
        "    meta_data_dict = unpickle(data_dir + \"/batches.meta\")\n",
        "    cifar_label_names = meta_data_dict[b'label_names']\n",
        "    cifar_label_names = np.array(cifar_label_names)\n",
        "\n",
        "    # training data\n",
        "    cifar_train_data = None\n",
        "    cifar_train_filenames = []\n",
        "    cifar_train_labels = []\n",
        "\n",
        "    # cifar_train_data_dict\n",
        "    # 'batch_label': 'training batch 5 of 5'\n",
        "    # 'data': ndarray\n",
        "    # 'filenames': list\n",
        "    # 'labels': list\n",
        "\n",
        "    for i in range(1, 6):\n",
        "        cifar_train_data_dict = unpickle(data_dir + \"/data_batch_{}\".format(i))\n",
        "        if i == 1:\n",
        "            cifar_train_data = cifar_train_data_dict[b'data']\n",
        "        else:\n",
        "            cifar_train_data = np.vstack((cifar_train_data, cifar_train_data_dict[b'data']))\n",
        "        cifar_train_filenames += cifar_train_data_dict[b'filenames']\n",
        "        cifar_train_labels += cifar_train_data_dict[b'labels']\n",
        "\n",
        "    cifar_train_data = cifar_train_data.reshape((len(cifar_train_data), 3, 32, 32))\n",
        "    if negatives:\n",
        "        cifar_train_data = cifar_train_data.transpose(0, 2, 3, 1).astype(np.float32)\n",
        "    else:\n",
        "        cifar_train_data = np.rollaxis(cifar_train_data, 1, 4)\n",
        "    cifar_train_filenames = np.array(cifar_train_filenames)\n",
        "    cifar_train_labels = np.array(cifar_train_labels)\n",
        "\n",
        "    # test data\n",
        "    # cifar_test_data_dict\n",
        "    # 'batch_label': 'testing batch 1 of 1'\n",
        "    # 'data': ndarray\n",
        "    # 'filenames': list\n",
        "    # 'labels': list\n",
        "\n",
        "    cifar_test_data_dict = unpickle(data_dir + \"/test_batch\")\n",
        "    cifar_test_data = cifar_test_data_dict[b'data']\n",
        "    cifar_test_filenames = cifar_test_data_dict[b'filenames']\n",
        "    cifar_test_labels = cifar_test_data_dict[b'labels']\n",
        "\n",
        "    cifar_test_data = cifar_test_data.reshape((len(cifar_test_data), 3, 32, 32))\n",
        "    if negatives:\n",
        "        cifar_test_data = cifar_test_data.transpose(0, 2, 3, 1).astype(np.float32)\n",
        "    else:\n",
        "        cifar_test_data = np.rollaxis(cifar_test_data, 1, 4)\n",
        "    cifar_test_filenames = np.array(cifar_test_filenames)\n",
        "    cifar_test_labels = np.array(cifar_test_labels)\n",
        "\n",
        "    return cifar_train_data, cifar_train_filenames, cifar_train_labels, \\\n",
        "        cifar_test_data, cifar_test_filenames, cifar_test_labels, cifar_label_names\n",
        "\n",
        "\n",
        "def cifar_loader():\n",
        "    \"\"\"show it works\"\"\"\n",
        "    print(\"Processing CIFAR10 ...\")\n",
        "    cifar_10_dir = 'data/cifar-10-batches-py'\n",
        "\n",
        "    train_data, train_filenames, train_labels, test_data, test_filenames, test_labels, label_names = \\\n",
        "        load_cifar_10_data(cifar_10_dir)\n",
        "\n",
        "    print(\"Train data: \", train_data.shape)\n",
        "    print(\"Train filenames: \", train_filenames.shape)\n",
        "    print(\"Train labels: \", train_labels.shape)\n",
        "    print(\"Test data: \", test_data.shape)\n",
        "    print(\"Test filenames: \", test_filenames.shape)\n",
        "    print(\"Test labels: \", test_labels.shape)\n",
        "    print(\"Label names: \", label_names.shape)\n",
        "\n",
        "    # Don't forget that the label_names and filesnames are in binary and need conversion if used.\n",
        "\n",
        "    # display some random training images in a 25x25 grid\n",
        "    num_plot = 5\n",
        "    f, ax = plt.subplots(num_plot, num_plot)\n",
        "    for m in range(num_plot):\n",
        "        for n in range(num_plot):\n",
        "            idx = np.random.randint(0, train_data.shape[0])\n",
        "            ax[m, n].imshow(train_data[idx])\n",
        "            ax[m, n].get_xaxis().set_visible(False)\n",
        "            ax[m, n].get_yaxis().set_visible(False)\n",
        "    f.subplots_adjust(hspace=0.1)\n",
        "    f.subplots_adjust(wspace=0)\n",
        "    plt.show()\n",
        "\n",
        "def get_dataset(name):\n",
        "    datasets = {\n",
        "            \"CIFAR10\":\"https://www.cs.toronto.edu/~kriz/cifar-10-python.tar.gz\"\n",
        "            # for time being, i have just kept on url to retrive and download\n",
        "        }\n",
        "    if name not in datasets:\n",
        "        all_datasets = datasets.keys()\n",
        "        msg = \"Please enter proper dataset name from the above list.\"\n",
        "        print(all_datasets)\n",
        "        return msg\n",
        "\n",
        "    !mkdir data\n",
        "    !cd data\n",
        "    \n",
        "    print(\"Dataset: Starting download...\")\n",
        "    url = datasets[name]\n",
        "    file_name = wget.download(url)\n",
        "    print(\"Dataset: Downloading finished...\")\n",
        "    print(\"Extracting dataset...\")\n",
        "    if (file_name.endswith(\"tar.gz\")):\n",
        "        with tarfile.open(file_name, \"r:gz\") as tar:\n",
        "            tar.extractall(\"./data\")\n",
        "    elif (file_name.endswith(\"zip\")):\n",
        "        with zipfile.ZipFile(file_name, 'r') as zip_ref:\n",
        "            zip_ref.extractall(\"./data\")\n",
        "    print(\"Extracted successfully in data/ \")\n",
        "    if name==\"CIFAR10\":\n",
        "      cifar_loader()"
      ],
      "execution_count": 0,
      "outputs": [
        {
          "output_type": "stream",
          "text": [
            "Collecting wget\n",
            "  Downloading https://files.pythonhosted.org/packages/47/6a/62e288da7bcda82b935ff0c6cfe542970f04e29c756b0e147251b2fb251f/wget-3.2.zip\n",
            "Building wheels for collected packages: wget\n",
            "  Building wheel for wget (setup.py) ... \u001b[?25l\u001b[?25hdone\n",
            "  Created wheel for wget: filename=wget-3.2-cp36-none-any.whl size=9681 sha256=28fdd0eeac6f3a05098b3d28f51ef73a4c9408453e853ad9a55627a1ee023bbb\n",
            "  Stored in directory: /root/.cache/pip/wheels/40/15/30/7d8f7cea2902b4db79e3fea550d7d7b85ecb27ef992b618f3f\n",
            "Successfully built wget\n",
            "Installing collected packages: wget\n",
            "Successfully installed wget-3.2\n"
          ],
          "name": "stdout"
        }
      ]
    },
    {
      "cell_type": "code",
      "metadata": {
        "id": "EebpM_KNiq-o",
        "colab_type": "code",
        "outputId": "db37abce-2dba-47eb-ec58-84e82bf95d88",
        "colab": {
          "base_uri": "https://localhost:8080/",
          "height": 456
        }
      },
      "source": [
        "get_dataset(\"CIFAR10\")"
      ],
      "execution_count": 0,
      "outputs": [
        {
          "output_type": "stream",
          "text": [
            "Dataset: Starting download...\n",
            "Dataset: Downloading finished...\n",
            "Extracting dataset...\n",
            "Extracted successfully in data/ \n",
            "Processing CIFAR10 ...\n",
            "Train data:  (50000, 32, 32, 3)\n",
            "Train filenames:  (50000,)\n",
            "Train labels:  (50000,)\n",
            "Test data:  (10000, 32, 32, 3)\n",
            "Test filenames:  (10000,)\n",
            "Test labels:  (10000,)\n",
            "Label names:  (10,)\n"
          ],
          "name": "stdout"
        },
        {
          "output_type": "display_data",
          "data": {
            "image/png": "[encoded data removed]",
            "text/plain": [
              "<Figure size 432x288 with 25 Axes>"
            ]
          },
          "metadata": {
            "tags": []
          }
        }
      ]
    },
    {
      "cell_type": "code",
      "metadata": {
        "id": "ID3McrOJiv4f",
        "colab_type": "code",
        "outputId": "6a0ba918-628f-4923-faef-1831b415d315",
        "colab": {
          "base_uri": "https://localhost:8080/",
          "height": 34
        }
      },
      "source": [
        "!pip install wget\n",
        "import wget\n",
        "import zipfile\n",
        "import tarfile\n",
        "import numpy as np\n",
        "import matplotlib.pyplot as plt\n",
        "import pickle\n",
        "import os\n",
        "import sys\n",
        "\n",
        "import tarfile\n",
        "from six.moves import cPickle as pickle\n",
        "from six.moves import xrange  # pylint: disable=redefined-builtin\n",
        "import tensorflow as tf\n",
        "from tensorflow.examples.tutorials.mnist import input_data"
      ],
      "execution_count": 0,
      "outputs": [
        {
          "output_type": "stream",
          "text": [
            "Requirement already satisfied: wget in /usr/local/lib/python3.6/dist-packages (3.2)\n"
          ],
          "name": "stdout"
        }
      ]
    },
    {
      "cell_type": "code",
      "metadata": {
        "id": "2hneft_AoDmS",
        "colab_type": "code",
        "colab": {}
      },
      "source": [
        "dataset_config = [\n",
        "    \"CIFAR10\",\n",
        "    \"MNIST\",\n",
        "    \"IMAGENET\",\n",
        "    \"TINYIMAGENET\"\n",
        "]\n",
        "\n",
        "\n",
        "def _int64_feature(value):\n",
        "  return tf.train.Feature(int64_list=tf.train.Int64List(value=[value]))\n",
        "\n",
        "\n",
        "def _bytes_feature(value):\n",
        "  return tf.train.Feature(bytes_list=tf.train.BytesList(value=[value]))\n"
      ],
      "execution_count": 0,
      "outputs": []
    },
    {
      "cell_type": "code",
      "metadata": {
        "id": "V_tNsrf3piuF",
        "colab_type": "code",
        "colab": {}
      },
      "source": [
        "def cifar10_loader():\n",
        "    CIFAR_FILENAME = 'cifar-10-python.tar.gz'\n",
        "    CIFAR_DOWNLOAD_URL = 'https://www.cs.toronto.edu/~kriz/' + CIFAR_FILENAME\n",
        "    CIFAR_LOCAL_FOLDER = 'cifar-10-batches-py'\n",
        "\n",
        "\n",
        "    def download_and_extract(data_dir):\n",
        "      # download CIFAR-10 if not already downloaded.\n",
        "      tf.contrib.learn.datasets.base.maybe_download(CIFAR_FILENAME, data_dir,\n",
        "                                                    CIFAR_DOWNLOAD_URL)\n",
        "      tarfile.open(os.path.join(data_dir, CIFAR_FILENAME),\n",
        "                  'r:gz').extractall(data_dir)\n",
        "\n",
        "    def _get_file_names():\n",
        "      \"\"\"Returns the file names expected to exist in the input_dir.\"\"\"\n",
        "      file_names = {}\n",
        "      file_names['train'] = ['data_batch_%d' % i for i in xrange(1, 5)]\n",
        "      file_names['validation'] = ['data_batch_5']\n",
        "      file_names['eval'] = ['test_batch']\n",
        "      return file_names\n",
        "\n",
        "\n",
        "    def read_pickle_from_file(filename):\n",
        "      with tf.gfile.Open(filename, 'rb') as f:\n",
        "        if sys.version_info >= (3, 0):\n",
        "          data_dict = pickle.load(f, encoding='bytes')\n",
        "        else:\n",
        "          data_dict = pickle.load(f)\n",
        "      return data_dict\n",
        "\n",
        "\n",
        "    def convert_to_tfrecord(input_files, output_file):\n",
        "      \"\"\"Converts a file to TFRecords.\"\"\"\n",
        "      print('Generating %s' % output_file)\n",
        "      with tf.python_io.TFRecordWriter(output_file) as record_writer:\n",
        "        for input_file in input_files:\n",
        "          data_dict = read_pickle_from_file(input_file)\n",
        "          data = data_dict[b'data']\n",
        "          labels = data_dict[b'labels']\n",
        "          num_entries_in_batch = len(labels)\n",
        "          for i in range(num_entries_in_batch):\n",
        "            example = tf.train.Example(features=tf.train.Features(\n",
        "                feature={\n",
        "                    'image': _bytes_feature(data[i].tobytes()),\n",
        "                    'label': _int64_feature(labels[i])\n",
        "                }))\n",
        "            record_writer.write(example.SerializeToString())\n",
        "\n",
        "    data_dir = \"./\"\n",
        "    print('Download from {} and extract.'.format(CIFAR_DOWNLOAD_URL))\n",
        "    download_and_extract(data_dir)\n",
        "    file_names = _get_file_names()\n",
        "    input_dir = os.path.join(data_dir, CIFAR_LOCAL_FOLDER)\n",
        "    for mode, files in file_names.items():\n",
        "      input_files = [os.path.join(input_dir, f) for f in files]\n",
        "      output_file = os.path.join(data_dir, mode + '.tfrecords')\n",
        "      try:\n",
        "        os.remove(output_file)\n",
        "      except OSError:\n",
        "        pass\n",
        "      # Convert to tf.train.Example and write the to TFRecords.\n",
        "      convert_to_tfrecord(input_files, output_file)\n",
        "    print('Done! CIFAR10 is now present at your working directory')"
      ],
      "execution_count": 0,
      "outputs": []
    },
    {
      "cell_type": "code",
      "metadata": {
        "id": "QUngmNGdpior",
        "colab_type": "code",
        "colab": {}
      },
      "source": [
        "def mnist_loader():\n",
        "    def _data_path(data_directory:str, name:str) -> str:\n",
        "\n",
        "      if not os.path.isdir(data_directory):\n",
        "          os.makedirs(data_directory)\n",
        "\n",
        "      return os.path.join(data_directory, f'{name}.tfrecords')\n",
        "\n",
        "    def _int64_feature(value:int) -> tf.train.Features.FeatureEntry:\n",
        "        return tf.train.Feature(int64_list=tf.train.Int64List(value=[value]))\n",
        "\n",
        "    def _bytes_feature(value:str) -> tf.train.Features.FeatureEntry:\n",
        "        return tf.train.Feature(bytes_list=tf.train.BytesList(value=[value]))\n",
        "\n",
        "    def convert_to(data_set, name:str, data_directory:str, num_shards:int=1):\n",
        "        print(f'Processing {name} data')\n",
        "\n",
        "        images = data_set.images\n",
        "        labels = data_set.labels\n",
        "        \n",
        "        num_examples, rows, cols, depth = data_set.images.shape\n",
        "\n",
        "        def _process_examples(start_idx:int, end_index:int, filename:str):\n",
        "            with tf.python_io.TFRecordWriter(filename) as writer:\n",
        "                for index in range(start_idx, end_index):\n",
        "                    sys.stdout.write(f\"\\rProcessing sample {index+1} of {num_examples}\")\n",
        "                    sys.stdout.flush()\n",
        "\n",
        "                    image_raw = images[index].tostring()\n",
        "                    example = tf.train.Example(features=tf.train.Features(feature={\n",
        "                        'height': _int64_feature(rows),\n",
        "                        'width': _int64_feature(cols),\n",
        "                        'depth': _int64_feature(depth),\n",
        "                        'label': _int64_feature(int(labels[index])),\n",
        "                        'image_raw': _bytes_feature(image_raw)\n",
        "                    }))\n",
        "                    writer.write(example.SerializeToString())\n",
        "        \n",
        "        if num_shards == 1:\n",
        "            _process_examples(0, data_set.num_examples, _data_path(data_directory, name))\n",
        "        else:\n",
        "            total_examples = data_set.num_examples\n",
        "            samples_per_shard = total_examples // num_shards\n",
        "\n",
        "            for shard in range(num_shards):\n",
        "                start_index = shard * samples_per_shard\n",
        "                end_index = start_index + samples_per_shard\n",
        "                _process_examples(start_index, end_index, _data_path(data_directory, f'{name}-{shard+1}'))\n",
        "\n",
        "        print()\n",
        "\n",
        "    def convert_to_tf_record(data_directory:str):\n",
        "\n",
        "        mnist = input_data.read_data_sets(\n",
        "            \"/tmp/tensorflow/mnist/input_data\", \n",
        "            reshape=False\n",
        "        )\n",
        "        \n",
        "        convert_to(mnist.validation, 'validation', data_directory)\n",
        "        convert_to(mnist.train, 'train', data_directory, num_shards=10)\n",
        "        convert_to(mnist.test, 'test', data_directory)\n",
        "\n",
        "    convert_to_tf_record(os.path.expanduser(\"./\"))"
      ],
      "execution_count": 0,
      "outputs": []
    },
    {
      "cell_type": "code",
      "metadata": {
        "id": "Vw_r5-JbokRr",
        "colab_type": "code",
        "colab": {}
      },
      "source": [
        "def download_dataset(dataset_name):\n",
        "    if dataset_name not in dataset_config:\n",
        "        print(list(dataset_config.keys()))\n",
        "        msg = \"Please enter dataset name from the above dataset list\"\n",
        "        return msg\n",
        "    else:\n",
        "        print(\"Downloading your dataset...\")\n",
        "    \n",
        "    if(dataset_name == \"CIFAR10\"):\n",
        "      return cifar10_loader()\n",
        "\n",
        "    if(dataset_name == \"MNIST\"):\n",
        "      return mnist_loader()"
      ],
      "execution_count": 0,
      "outputs": []
    },
    {
      "cell_type": "code",
      "metadata": {
        "id": "QiDBoJP5pN_b",
        "colab_type": "code",
        "outputId": "85bc8b10-ed42-4c31-d48d-c3dd9d03708b",
        "colab": {
          "base_uri": "https://localhost:8080/",
          "height": 394
        }
      },
      "source": [
        "download_dataset(\"CIFAR10\")"
      ],
      "execution_count": 0,
      "outputs": [
        {
          "output_type": "stream",
          "text": [
            "Downloading your dataset...\n",
            "Download from https://www.cs.toronto.edu/~kriz/cifar-10-python.tar.gz and extract.\n",
            "WARNING:tensorflow:\n",
            "The TensorFlow contrib module will not be included in TensorFlow 2.0.\n",
            "For more information, please see:\n",
            "  * https://github.com/tensorflow/community/blob/master/rfcs/20180907-contrib-sunset.md\n",
            "  * https://github.com/tensorflow/addons\n",
            "  * https://github.com/tensorflow/io (for I/O related ops)\n",
            "If you depend on functionality not listed there, please file an issue.\n",
            "\n",
            "WARNING:tensorflow:From <ipython-input-3-d2f403c5cb98>:10: maybe_download (from tensorflow.contrib.learn.python.learn.datasets.base) is deprecated and will be removed in a future version.\n",
            "Instructions for updating:\n",
            "Please write your own downloading logic.\n",
            "WARNING:tensorflow:From /usr/local/lib/python3.6/dist-packages/tensorflow_core/contrib/learn/python/learn/datasets/base.py:252: _internal_retry.<locals>.wrap.<locals>.wrapped_fn (from tensorflow.contrib.learn.python.learn.datasets.base) is deprecated and will be removed in a future version.\n",
            "Instructions for updating:\n",
            "Please use urllib or similar directly.\n",
            "Successfully downloaded cifar-10-python.tar.gz 170498071 bytes.\n",
            "Generating ./train.tfrecords\n",
            "Generating ./validation.tfrecords\n",
            "Generating ./eval.tfrecords\n",
            "Done! CIFAR10 is now present at your working directory\n"
          ],
          "name": "stdout"
        }
      ]
    },
    {
      "cell_type": "code",
      "metadata": {
        "id": "V5h_XvVqpUvD",
        "colab_type": "code",
        "outputId": "83491c5a-ec0c-4139-cf87-7db8b8dfe494",
        "colab": {
          "base_uri": "https://localhost:8080/",
          "height": 462
        }
      },
      "source": [
        "download_dataset(\"MNIST\")"
      ],
      "execution_count": 0,
      "outputs": [
        {
          "output_type": "stream",
          "text": [
            "Downloading your dataset...\n",
            "WARNING:tensorflow:From <ipython-input-14-cc87e02a8808>:56: read_data_sets (from tensorflow.contrib.learn.python.learn.datasets.mnist) is deprecated and will be removed in a future version.\n",
            "Instructions for updating:\n",
            "Please use alternatives such as official/mnist/dataset.py from tensorflow/models.\n",
            "Successfully downloaded train-images-idx3-ubyte.gz 9912422 bytes.\n",
            "WARNING:tensorflow:From /usr/local/lib/python3.6/dist-packages/tensorflow_core/contrib/learn/python/learn/datasets/mnist.py:262: extract_images (from tensorflow.contrib.learn.python.learn.datasets.mnist) is deprecated and will be removed in a future version.\n",
            "Instructions for updating:\n",
            "Please use tf.data to implement this functionality.\n",
            "Extracting /tmp/tensorflow/mnist/input_data/train-images-idx3-ubyte.gz\n",
            "Successfully downloaded train-labels-idx1-ubyte.gz 28881 bytes.\n",
            "WARNING:tensorflow:From /usr/local/lib/python3.6/dist-packages/tensorflow_core/contrib/learn/python/learn/datasets/mnist.py:267: extract_labels (from tensorflow.contrib.learn.python.learn.datasets.mnist) is deprecated and will be removed in a future version.\n",
            "Instructions for updating:\n",
            "Please use tf.data to implement this functionality.\n",
            "Extracting /tmp/tensorflow/mnist/input_data/train-labels-idx1-ubyte.gz\n",
            "Successfully downloaded t10k-images-idx3-ubyte.gz 1648877 bytes.\n",
            "Extracting /tmp/tensorflow/mnist/input_data/t10k-images-idx3-ubyte.gz\n",
            "Successfully downloaded t10k-labels-idx1-ubyte.gz 4542 bytes.\n",
            "Extracting /tmp/tensorflow/mnist/input_data/t10k-labels-idx1-ubyte.gz\n",
            "WARNING:tensorflow:From /usr/local/lib/python3.6/dist-packages/tensorflow_core/contrib/learn/python/learn/datasets/mnist.py:290: DataSet.__init__ (from tensorflow.contrib.learn.python.learn.datasets.mnist) is deprecated and will be removed in a future version.\n",
            "Instructions for updating:\n",
            "Please use alternatives such as official/mnist/dataset.py from tensorflow/models.\n",
            "Processing validation data\n",
            "Processing sample 5000 of 5000\n",
            "Processing train data\n",
            "Processing sample 10000 of 10000\n"
          ],
          "name": "stdout"
        }
      ]
    },
    {
      "cell_type": "code",
      "metadata": {
        "id": "4kduocoe-2IU",
        "colab_type": "code",
        "colab": {}
      },
      "source": [
        ""
      ],
      "execution_count": 0,
      "outputs": []
    }
  ]
}