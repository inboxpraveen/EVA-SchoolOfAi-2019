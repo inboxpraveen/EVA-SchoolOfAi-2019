{
  "nbformat": 4,
  "nbformat_minor": 0,
  "metadata": {
    "colab": {
      "name": "4D_submission.ipynb",
      "version": "0.3.2",
      "provenance": [],
      "collapsed_sections": []
    },
    "kernelspec": {
      "name": "python3",
      "display_name": "Python 3"
    },
    "accelerator": "GPU"
  },
  "cells": [
    {
      "cell_type": "markdown",
      "metadata": {
        "id": "kMQdseS5HzWP",
        "colab_type": "text"
      },
      "source": [
        "# Note : THIS NOTEBOOK LOOKS DIFFERENT BECAUSE I HAVE TRIED DIFFERENT BATCH SIZES AND ADDED DROPOUTS TO THE PREVIOU NOTEBOOK ARCHITECTURE.\n",
        "\n",
        "# I AM STILL FOLLOWING THE SAME ARCHITECTURE, BUT FOR DIFFERENT BATCH SIZES,I HAVE PUT EVERYTHING IN A FUNCTION."
      ]
    },
    {
      "cell_type": "markdown",
      "metadata": {
        "id": "8-OIbgY7MtFu",
        "colab_type": "text"
      },
      "source": [
        "# MNIST ASSIGNMENT:\n",
        "\n",
        "We need to:\n",
        "\n",
        "-  Follow same architecture.\n",
        "\n",
        "  - it has less than 15000 parameters\n",
        "  \n",
        "  - it achieves validation accuracy of more than 99.4% (basically print(score) should be more than 0.994)\n",
        "\n",
        "- Once done, upload the link to your Github Project to LMS.\n"
      ]
    },
    {
      "cell_type": "markdown",
      "metadata": {
        "id": "dqcSl_JVNYQC",
        "colab_type": "text"
      },
      "source": [
        "## Getting things ready!\n",
        "\n",
        "We set seed so not to lose our progress due to randomness.\n",
        "\n",
        "We later on the following libraries:\n",
        "\n",
        "1. Keras ([Keras Documentation](https://keras.io/)) :- Keras is a high-level neural networks API, written in Python and capable of running on top of TensorFlow, CNTK, or Theano. \n",
        "We import keras layers, model type Sequential (since we will be building a sequential model), and utils for plotting model and for converting single class to categorical 10 classes.\n",
        "\n",
        "2. We also import Train_test_split, Model checkpoints to save the model and ImageDataGenerator just to create a batch flow into the network. **(We are not using any augumentation techniques & other tuning parameters)**.\n",
        "\n",
        "The whole model is in itself is most basic & default."
      ]
    },
    {
      "cell_type": "code",
      "metadata": {
        "id": "qAPEkHZuSsHu",
        "colab_type": "code",
        "colab": {}
      },
      "source": [
        "import numpy as np\n",
        "np.random.seed(25)"
      ],
      "execution_count": 0,
      "outputs": []
    },
    {
      "cell_type": "code",
      "metadata": {
        "id": "3m3w1Cw49Zkt",
        "colab_type": "code",
        "outputId": "4040c698-72ea-486a-afb2-f30dcc7d862c",
        "colab": {
          "base_uri": "https://localhost:8080/",
          "height": 34
        }
      },
      "source": [
        "!pip install -q keras\n",
        "import keras"
      ],
      "execution_count": 0,
      "outputs": [
        {
          "output_type": "stream",
          "text": [
            "Using TensorFlow backend.\n"
          ],
          "name": "stderr"
        }
      ]
    },
    {
      "cell_type": "code",
      "metadata": {
        "id": "Eso6UHE080D4",
        "colab_type": "code",
        "colab": {}
      },
      "source": [
        "import pandas as pd\n",
        "import seaborn as sns\n",
        "import matplotlib.pyplot as plt\n",
        "%matplotlib inline\n",
        "import warnings\n",
        "warnings.filterwarnings('ignore')\n",
        "\n",
        "from keras.models import (Sequential,\n",
        "                          load_model)\n",
        "\n",
        "from keras.layers import (Dropout,\n",
        "                          Activation,\n",
        "                          Flatten,Conv2D,\n",
        "                          MaxPooling2D,\n",
        "                          BatchNormalization)\n",
        "\n",
        "from keras.utils import (np_utils,\n",
        "                         plot_model)\n",
        "\n",
        "from keras import backend as K\n",
        "from keras.preprocessing.image import ImageDataGenerator\n",
        "from keras.callbacks import ModelCheckpoint\n",
        "from sklearn.model_selection import train_test_split\n",
        "\n",
        "import datetime\n",
        "\n",
        "from keras.datasets import mnist"
      ],
      "execution_count": 0,
      "outputs": []
    },
    {
      "cell_type": "markdown",
      "metadata": {
        "id": "zByEi95J86RD",
        "colab_type": "text"
      },
      "source": [
        "## Load pre-shuffled MNIST data into Train set and Test set\n",
        "\n",
        "After loading the Train and Test sets, we initially plot any one image from the Train set and see how the images really look like. \n",
        "\n",
        "We then reshape our data into 28x28x1, which would be input to our network. Here 28x28 is the image Height x Width and 1 is the number of channels. We also standardise our pixel (range: 0-255) values so as to obtain normally distributed pixel values between range 0-1, and also due to computational reasons.\n",
        "\n",
        "We explore total number of digits on each class and then, convert our target variable into categorical 10 classes output, where each bit is set to 1 corresponding to the actual digit value. \n",
        "\n",
        "- Example: if the digit value is 6, then the 6th column is set to 1 and the rest 9 columns are set to 0.\n"
      ]
    },
    {
      "cell_type": "code",
      "metadata": {
        "id": "7eRM0QWN83PV",
        "colab_type": "code",
        "outputId": "c5c3dfd3-80eb-4a38-ec48-8cd33134e39c",
        "colab": {
          "base_uri": "https://localhost:8080/",
          "height": 51
        }
      },
      "source": [
        "(X_train, y_train), (X_test, y_test) = mnist.load_data()"
      ],
      "execution_count": 0,
      "outputs": [
        {
          "output_type": "stream",
          "text": [
            "Downloading data from https://s3.amazonaws.com/img-datasets/mnist.npz\n",
            "11493376/11490434 [==============================] - 1s 0us/step\n"
          ],
          "name": "stdout"
        }
      ]
    },
    {
      "cell_type": "code",
      "metadata": {
        "id": "4a4Be72j8-ZC",
        "colab_type": "code",
        "outputId": "d6752a60-8cf3-422b-8170-43c5d12f3e19",
        "colab": {
          "base_uri": "https://localhost:8080/",
          "height": 303
        }
      },
      "source": [
        "print (X_train.shape)\n",
        "from matplotlib import pyplot as plt\n",
        "%matplotlib inline\n",
        "plt.imshow(X_train[1])"
      ],
      "execution_count": 0,
      "outputs": [
        {
          "output_type": "stream",
          "text": [
            "(60000, 28, 28)\n"
          ],
          "name": "stdout"
        },
        {
          "output_type": "execute_result",
          "data": {
            "text/plain": [
              "<matplotlib.image.AxesImage at 0x7f81bad2d400>"
            ]
          },
          "metadata": {
            "tags": []
          },
          "execution_count": 5
        },
        {
          "output_type": "display_data",
          "data": {
            "image/png": "[encoded data removed]",
            "text/plain": [
              "<Figure size 432x288 with 1 Axes>"
            ]
          },
          "metadata": {
            "tags": []
          }
        }
      ]
    },
    {
      "cell_type": "code",
      "metadata": {
        "id": "dkmprriw9AnZ",
        "colab_type": "code",
        "colab": {}
      },
      "source": [
        "X_train = X_train.reshape(X_train.shape[0], 28, 28,1)\n",
        "X_test = X_test.reshape(X_test.shape[0], 28, 28,1)"
      ],
      "execution_count": 0,
      "outputs": []
    },
    {
      "cell_type": "code",
      "metadata": {
        "id": "X2m4YS4E9CRh",
        "colab_type": "code",
        "colab": {}
      },
      "source": [
        "X_train = X_train.astype('float32')\n",
        "X_test = X_test.astype('float32')\n",
        "X_train /= 255\n",
        "X_test /= 255"
      ],
      "execution_count": 0,
      "outputs": []
    },
    {
      "cell_type": "code",
      "metadata": {
        "id": "0Mn0vAYD9DvB",
        "colab_type": "code",
        "outputId": "e46e6dc7-f3fe-4ccf-8131-7b7d7ec8f08c",
        "colab": {
          "base_uri": "https://localhost:8080/",
          "height": 34
        }
      },
      "source": [
        "y_train[:10]"
      ],
      "execution_count": 0,
      "outputs": [
        {
          "output_type": "execute_result",
          "data": {
            "text/plain": [
              "array([5, 0, 4, 1, 9, 2, 1, 3, 1, 4], dtype=uint8)"
            ]
          },
          "metadata": {
            "tags": []
          },
          "execution_count": 8
        }
      ]
    },
    {
      "cell_type": "markdown",
      "metadata": {
        "id": "_gKBi1deTdve",
        "colab_type": "text"
      },
      "source": [
        "#### Exploratary Data Analysis : "
      ]
    },
    {
      "cell_type": "code",
      "metadata": {
        "id": "894mVykgTlUM",
        "colab_type": "code",
        "outputId": "4f5fe2b3-34a7-4f44-fb90-6f918f0e1d80",
        "colab": {
          "base_uri": "https://localhost:8080/",
          "height": 286
        }
      },
      "source": [
        "sns.countplot(y_train)"
      ],
      "execution_count": 0,
      "outputs": [
        {
          "output_type": "execute_result",
          "data": {
            "text/plain": [
              "<matplotlib.axes._subplots.AxesSubplot at 0x7f81bad2dac8>"
            ]
          },
          "metadata": {
            "tags": []
          },
          "execution_count": 9
        },
        {
          "output_type": "display_data",
          "data": {
            "image/png": "[encoded data removed]",
            "text/plain": [
              "<Figure size 432x288 with 1 Axes>"
            ]
          },
          "metadata": {
            "tags": []
          }
        }
      ]
    },
    {
      "cell_type": "code",
      "metadata": {
        "id": "WQ4jBjSMTlQx",
        "colab_type": "code",
        "outputId": "006a36c2-3f4a-46d3-fe95-3dbf710bc95a",
        "colab": {
          "base_uri": "https://localhost:8080/",
          "height": 286
        }
      },
      "source": [
        "sns.countplot(y_test)"
      ],
      "execution_count": 0,
      "outputs": [
        {
          "output_type": "execute_result",
          "data": {
            "text/plain": [
              "<matplotlib.axes._subplots.AxesSubplot at 0x7f81bacd7f98>"
            ]
          },
          "metadata": {
            "tags": []
          },
          "execution_count": 10
        },
        {
          "output_type": "display_data",
          "data": {
            "image/png": "[encoded data removed]",
            "text/plain": [
              "<Figure size 432x288 with 1 Axes>"
            ]
          },
          "metadata": {
            "tags": []
          }
        }
      ]
    },
    {
      "cell_type": "code",
      "metadata": {
        "id": "ZG8JiXR39FHC",
        "colab_type": "code",
        "colab": {}
      },
      "source": [
        "Y_train = np_utils.to_categorical(y_train, 10)\n",
        "Y_test = np_utils.to_categorical(y_test, 10)"
      ],
      "execution_count": 0,
      "outputs": []
    },
    {
      "cell_type": "code",
      "metadata": {
        "id": "fYlFRvKS9HMB",
        "colab_type": "code",
        "outputId": "1ba214fa-a781-437b-8bed-88c0303281fe",
        "colab": {
          "base_uri": "https://localhost:8080/",
          "height": 187
        }
      },
      "source": [
        "Y_train[:10]"
      ],
      "execution_count": 0,
      "outputs": [
        {
          "output_type": "execute_result",
          "data": {
            "text/plain": [
              "array([[0., 0., 0., 0., 0., 1., 0., 0., 0., 0.],\n",
              "       [1., 0., 0., 0., 0., 0., 0., 0., 0., 0.],\n",
              "       [0., 0., 0., 0., 1., 0., 0., 0., 0., 0.],\n",
              "       [0., 1., 0., 0., 0., 0., 0., 0., 0., 0.],\n",
              "       [0., 0., 0., 0., 0., 0., 0., 0., 0., 1.],\n",
              "       [0., 0., 1., 0., 0., 0., 0., 0., 0., 0.],\n",
              "       [0., 1., 0., 0., 0., 0., 0., 0., 0., 0.],\n",
              "       [0., 0., 0., 1., 0., 0., 0., 0., 0., 0.],\n",
              "       [0., 1., 0., 0., 0., 0., 0., 0., 0., 0.],\n",
              "       [0., 0., 0., 0., 1., 0., 0., 0., 0., 0.]], dtype=float32)"
            ]
          },
          "metadata": {
            "tags": []
          },
          "execution_count": 12
        }
      ]
    },
    {
      "cell_type": "markdown",
      "metadata": {
        "id": "eGhQSY_ainpC",
        "colab_type": "text"
      },
      "source": [
        "### After getting very good accuracy in the previous notebook, now lets reduce the gap and check this model and finally test the validation accuracy.\n",
        "\n",
        "### We are adding dropouts because in the previous notebook, we have see training accuracy almost touched 100%.\n",
        "\n",
        "### This is the final notebook.\n",
        "\n",
        "The architecture is:\n",
        "\n",
        "INPUT>>CN>>BN>>CN>>BN>>MP>>DP>>CN>>BN>>CN>>BN>>CN>>BN>>MP>>DP>>CN>>BN>>CN>>FLATTERN>>OUTPUT"
      ]
    },
    {
      "cell_type": "code",
      "metadata": {
        "id": "osKqT73Q9JJB",
        "colab_type": "code",
        "colab": {}
      },
      "source": [
        "def __model__(load_model=False, model_name=''):\n",
        "  \n",
        "  model = Sequential()\n",
        "\n",
        "  model.add(Conv2D(16, kernel_size = 3, activation='relu',name=\"Conv2D_1\", input_shape = (28, 28, 1)))\n",
        "  model.add(BatchNormalization(name=\"BatchNormalization_1\"))\n",
        "  model.add(Conv2D(30, kernel_size = 3,name=\"Conv2D_2\", activation='relu'))\n",
        "  model.add(BatchNormalization(name=\"BatchNormalization_2\"))\n",
        "  model.add(MaxPooling2D(pool_size=(2,2),name=\"MaxPool2D_1\"))\n",
        "  model.add(Dropout(0.2))\n",
        "\n",
        "  model.add(Conv2D(12, kernel_size = 3,name=\"Conv2D_3\", activation='relu'))\n",
        "  model.add(BatchNormalization(name=\"BatchNormalization_3\"))\n",
        "  model.add(Conv2D(12, kernel_size = 3,name=\"Conv2D_4\", activation='relu'))\n",
        "  model.add(BatchNormalization(name=\"BatchNormalization_4\"))\n",
        "  model.add(Conv2D(29, kernel_size = 3,name=\"Conv2D_5\", activation='relu'))\n",
        "  model.add(BatchNormalization(name=\"BatchNormalization_5\"))\n",
        "  model.add(MaxPooling2D(pool_size=(2,2),name=\"MaxPool2D_2\"))\n",
        "  model.add(Dropout(0.2))\n",
        "\n",
        "  model.add(Conv2D(18,kernel_size=(1,1),name=\"Conv2D_6\",activation='relu'))\n",
        "  model.add(BatchNormalization(name=\"BatchNormalization_6\"))\n",
        "  model.add(Conv2D(10, kernel_size = 3,name=\"Conv2D_7\"))\n",
        "  model.add(Flatten())\n",
        "  model.add(Activation('softmax'))\n",
        "\n",
        "  if load_model:\n",
        "    model.load_weights(model_name)\n",
        "\n",
        "  model.compile(loss='categorical_crossentropy',optimizer='adam',metrics=['accuracy'])\n",
        "  \n",
        "  print('\\nTOTAL NUMBER OF PARAMETERS : ',model.count_params(),'\\n\\n')\n",
        "  \n",
        "  return model"
      ],
      "execution_count": 0,
      "outputs": []
    },
    {
      "cell_type": "code",
      "metadata": {
        "id": "TzdAYg1k9K7Z",
        "colab_type": "code",
        "colab": {}
      },
      "source": [
        "def cnn_fit(X_train,y_train,X_test,y_test, batch_size=128, epochs = 10, verbose = 1, cnn=0):\n",
        "  model = __model__()\n",
        "  \n",
        "  datagen = ImageDataGenerator()\n",
        "  \n",
        "  file_name_model = (\"model_\"+str(cnn)+\".hdf5\")\n",
        "  checkpointer = ModelCheckpoint(monitor='val_acc',\n",
        "                                   filepath=(\"./\"+file_name_model),\n",
        "                                   verbose=0, save_best_only=True, mode='max')\n",
        "    \n",
        "  \n",
        "  history = model.fit_generator(datagen.flow(X_train,y_train, batch_size=batch_size),\n",
        "                              epochs = epochs, \n",
        "                              callbacks=[checkpointer],steps_per_epoch=5000,\n",
        "                              validation_steps=6000,\n",
        "                              validation_data = datagen.flow(X_test,y_test,batch_size=batch_size),\n",
        "                              verbose = verbose)\n",
        "\n",
        "  return(history, model)"
      ],
      "execution_count": 0,
      "outputs": []
    },
    {
      "cell_type": "code",
      "metadata": {
        "id": "7L4EfED4iumC",
        "colab_type": "code",
        "outputId": "8086f9b0-16a9-4799-f5be-78da767d54cc",
        "colab": {
          "base_uri": "https://localhost:8080/",
          "height": 2757
        }
      },
      "source": [
        "%%time\n",
        "\n",
        "total_cnn=list()\n",
        "result=0\n",
        "selection_threshold_score = 0.9940 ## Aiming for Higher Accuracy !\n",
        "cnn=0\n",
        "\n",
        "print(\"LETS AIM FOR ACCURACY 99.40...\")\n",
        "\n",
        "for batch_size in [32,64,128,256]:\n",
        "  print(\"=\"*100)\n",
        "  print('START WITH BATCH SIZE : ', batch_size)\n",
        "\n",
        "  cnn+=1\n",
        "  time_start = datetime.datetime.now()\n",
        "  \n",
        "  history,model = cnn_fit(X_train, Y_train, X_test, Y_test, \n",
        "                           batch_size=batch_size, epochs=10, verbose=1, cnn=cnn)\n",
        "\n",
        "  print('\\nMODEL STATS : '\\\n",
        "          '| LAST TRAINING ACCURACY =', round(history.history['acc'][-1],5), \\\n",
        "          '| MAXIMUM VALIDATION ACCURACY =', round(max(history.history['val_acc']),5),\\\n",
        "          '| TOTAL TIME TAKEN TO COMPLETE : ', (datetime.datetime.now() - time_start),'\\n')\n",
        "\n",
        "  K.clear_session()\n",
        "  del model\n",
        "\n",
        "  model = __model__(load_model=True, model_name='model_'+str(cnn)+'.hdf5')\n",
        "\n",
        "  score = model.evaluate(X_test, Y_test, verbose=0)\n",
        "  \n",
        "  # Models selection\n",
        "  if round(score[1], 5) >= selection_threshold_score:\n",
        "    total_cnn.append(cnn)\n",
        "    print('\\nSCORE CROSSED THRESHOLD :: 0.9940 < ', round(score[1],5),'\\n')\n",
        "    print('SCORE AT BATCH SIZE ',batch_size,' IS : ',score)\n",
        "  else:\n",
        "    print(' - SKIPPING SCORE SINCE NOT ENOUGH TO CROSS THRESHOLD :: 0.9940 > ', round(score[1],5),'\\n')\n",
        "\n",
        "  K.clear_session()\n",
        "  del model\n",
        "  del history\n",
        "  print('='*100)"
      ],
      "execution_count": 0,
      "outputs": [
        {
          "output_type": "stream",
          "text": [
            "LETS AIM FOR ACCURACY 99.40...\n",
            "====================================================================================================\n",
            "START WITH BATCH SIZE :  32\n",
            "WARNING:tensorflow:From /usr/local/lib/python3.6/dist-packages/tensorflow/python/framework/op_def_library.py:263: colocate_with (from tensorflow.python.framework.ops) is deprecated and will be removed in a future version.\n",
            "Instructions for updating:\n",
            "Colocations handled automatically by placer.\n",
            "WARNING:tensorflow:From /usr/local/lib/python3.6/dist-packages/keras/backend/tensorflow_backend.py:3445: calling dropout (from tensorflow.python.ops.nn_ops) with keep_prob is deprecated and will be removed in a future version.\n",
            "Instructions for updating:\n",
            "Please use `rate` instead of `keep_prob`. Rate should be set to `rate = 1 - keep_prob`.\n",
            "\n",
            "TOTAL NUMBER OF PARAMETERS :  14869 \n",
            "\n",
            "\n",
            "WARNING:tensorflow:From /usr/local/lib/python3.6/dist-packages/tensorflow/python/ops/math_ops.py:3066: to_int32 (from tensorflow.python.ops.math_ops) is deprecated and will be removed in a future version.\n",
            "Instructions for updating:\n",
            "Use tf.cast instead.\n",
            "Epoch 1/10\n",
            "5000/5000 [==============================] - 72s 14ms/step - loss: 0.1243 - acc: 0.9616 - val_loss: 0.0429 - val_acc: 0.9868\n",
            "Epoch 2/10\n",
            "5000/5000 [==============================] - 69s 14ms/step - loss: 0.0430 - acc: 0.9864 - val_loss: 0.0270 - val_acc: 0.9912\n",
            "Epoch 3/10\n",
            "5000/5000 [==============================] - 68s 14ms/step - loss: 0.0341 - acc: 0.9891 - val_loss: 0.0346 - val_acc: 0.9902\n",
            "Epoch 4/10\n",
            "5000/5000 [==============================] - 68s 14ms/step - loss: 0.0276 - acc: 0.9911 - val_loss: 0.0284 - val_acc: 0.9906\n",
            "Epoch 5/10\n",
            "5000/5000 [==============================] - 68s 14ms/step - loss: 0.0245 - acc: 0.9920 - val_loss: 0.0247 - val_acc: 0.9927\n",
            "Epoch 6/10\n",
            "5000/5000 [==============================] - 70s 14ms/step - loss: 0.0218 - acc: 0.9928 - val_loss: 0.0239 - val_acc: 0.9924\n",
            "Epoch 7/10\n",
            "5000/5000 [==============================] - 67s 13ms/step - loss: 0.0201 - acc: 0.9936 - val_loss: 0.0257 - val_acc: 0.9926\n",
            "Epoch 8/10\n",
            "5000/5000 [==============================] - 68s 14ms/step - loss: 0.0185 - acc: 0.9937 - val_loss: 0.0244 - val_acc: 0.9933\n",
            "Epoch 9/10\n",
            "5000/5000 [==============================] - 68s 14ms/step - loss: 0.0173 - acc: 0.9942 - val_loss: 0.0279 - val_acc: 0.9930\n",
            "Epoch 10/10\n",
            "5000/5000 [==============================] - 68s 14ms/step - loss: 0.0157 - acc: 0.9948 - val_loss: 0.0228 - val_acc: 0.9936\n",
            "\n",
            "MODEL STATS : | LAST TRAINING ACCURACY = 0.99478 | MAXIMUM VALIDATION ACCURACY = 0.9936 | TOTAL TIME TAKEN TO COMPLETE :  0:11:30.940999 \n",
            "\n",
            "\n",
            "TOTAL NUMBER OF PARAMETERS :  14869 \n",
            "\n",
            "\n",
            " - SKIPPING SCORE SINCE NOT ENOUGH TO CROSS THRESHOLD :: 0.9940 >  0.9936 \n",
            "\n",
            "====================================================================================================\n",
            "====================================================================================================\n",
            "START WITH BATCH SIZE :  64\n",
            "\n",
            "TOTAL NUMBER OF PARAMETERS :  14869 \n",
            "\n",
            "\n",
            "Epoch 1/10\n",
            "5000/5000 [==============================] - 73s 15ms/step - loss: 0.0963 - acc: 0.9703 - val_loss: 0.0295 - val_acc: 0.9902\n",
            "Epoch 2/10\n",
            "5000/5000 [==============================] - 70s 14ms/step - loss: 0.0295 - acc: 0.9905 - val_loss: 0.0290 - val_acc: 0.9902\n",
            "Epoch 3/10\n",
            "5000/5000 [==============================] - 70s 14ms/step - loss: 0.0220 - acc: 0.9928 - val_loss: 0.0242 - val_acc: 0.9920\n",
            "Epoch 4/10\n",
            "5000/5000 [==============================] - 71s 14ms/step - loss: 0.0174 - acc: 0.9943 - val_loss: 0.0258 - val_acc: 0.9915\n",
            "Epoch 5/10\n",
            "5000/5000 [==============================] - 72s 14ms/step - loss: 0.0150 - acc: 0.9949 - val_loss: 0.0250 - val_acc: 0.9920\n",
            "Epoch 6/10\n",
            "5000/5000 [==============================] - 70s 14ms/step - loss: 0.0131 - acc: 0.9956 - val_loss: 0.0259 - val_acc: 0.9927\n",
            "Epoch 7/10\n",
            "5000/5000 [==============================] - 71s 14ms/step - loss: 0.0116 - acc: 0.9961 - val_loss: 0.0239 - val_acc: 0.9937\n",
            "Epoch 8/10\n",
            "5000/5000 [==============================] - 71s 14ms/step - loss: 0.0106 - acc: 0.9963 - val_loss: 0.0269 - val_acc: 0.9931\n",
            "Epoch 9/10\n",
            "5000/5000 [==============================] - 72s 14ms/step - loss: 0.0095 - acc: 0.9966 - val_loss: 0.0285 - val_acc: 0.9932\n",
            "Epoch 10/10\n",
            "5000/5000 [==============================] - 73s 15ms/step - loss: 0.0088 - acc: 0.9970 - val_loss: 0.0284 - val_acc: 0.9935\n",
            "\n",
            "MODEL STATS : | LAST TRAINING ACCURACY = 0.997 | MAXIMUM VALIDATION ACCURACY = 0.99369 | TOTAL TIME TAKEN TO COMPLETE :  0:11:54.631569 \n",
            "\n",
            "\n",
            "TOTAL NUMBER OF PARAMETERS :  14869 \n",
            "\n",
            "\n",
            " - SKIPPING SCORE SINCE NOT ENOUGH TO CROSS THRESHOLD :: 0.9940 >  0.9937 \n",
            "\n",
            "====================================================================================================\n",
            "====================================================================================================\n",
            "START WITH BATCH SIZE :  128\n",
            "\n",
            "TOTAL NUMBER OF PARAMETERS :  14869 \n",
            "\n",
            "\n",
            "Epoch 1/10\n",
            "5000/5000 [==============================] - 86s 17ms/step - loss: 0.0734 - acc: 0.9772 - val_loss: 0.0276 - val_acc: 0.9903\n",
            "Epoch 2/10\n",
            "5000/5000 [==============================] - 85s 17ms/step - loss: 0.0198 - acc: 0.9936 - val_loss: 0.0206 - val_acc: 0.9938\n",
            "Epoch 3/10\n",
            "5000/5000 [==============================] - 85s 17ms/step - loss: 0.0140 - acc: 0.9953 - val_loss: 0.0211 - val_acc: 0.9940\n",
            "Epoch 4/10\n",
            "5000/5000 [==============================] - 87s 17ms/step - loss: 0.0109 - acc: 0.9962 - val_loss: 0.0261 - val_acc: 0.9928\n",
            "Epoch 5/10\n",
            "5000/5000 [==============================] - 81s 16ms/step - loss: 0.0090 - acc: 0.9969 - val_loss: 0.0246 - val_acc: 0.9939\n",
            "Epoch 6/10\n",
            "5000/5000 [==============================] - 85s 17ms/step - loss: 0.0079 - acc: 0.9972 - val_loss: 0.0225 - val_acc: 0.9946\n",
            "Epoch 7/10\n",
            "5000/5000 [==============================] - 86s 17ms/step - loss: 0.0072 - acc: 0.9975 - val_loss: 0.0219 - val_acc: 0.9946\n",
            "Epoch 8/10\n",
            "5000/5000 [==============================] - 85s 17ms/step - loss: 0.0065 - acc: 0.9978 - val_loss: 0.0241 - val_acc: 0.9942\n",
            "Epoch 9/10\n",
            "5000/5000 [==============================] - 85s 17ms/step - loss: 0.0059 - acc: 0.9981 - val_loss: 0.0251 - val_acc: 0.9938\n",
            "Epoch 10/10\n",
            "5000/5000 [==============================] - 85s 17ms/step - loss: 0.0056 - acc: 0.9981 - val_loss: 0.0260 - val_acc: 0.9943\n",
            "\n",
            "MODEL STATS : | LAST TRAINING ACCURACY = 0.99811 | MAXIMUM VALIDATION ACCURACY = 0.9946 | TOTAL TIME TAKEN TO COMPLETE :  0:14:12.975444 \n",
            "\n",
            "\n",
            "TOTAL NUMBER OF PARAMETERS :  14869 \n",
            "\n",
            "\n",
            "\n",
            "SCORE CROSSED THRESHOLD :: 0.9940 <  0.9946 \n",
            "\n",
            "SCORE AT BATCH SIZE  128  IS :  [0.021943003207898982, 0.9946]\n",
            "====================================================================================================\n",
            "====================================================================================================\n",
            "START WITH BATCH SIZE :  256\n",
            "\n",
            "TOTAL NUMBER OF PARAMETERS :  14869 \n",
            "\n",
            "\n",
            "Epoch 1/10\n",
            "5000/5000 [==============================] - 109s 22ms/step - loss: 0.0587 - acc: 0.9818 - val_loss: 0.0222 - val_acc: 0.9931\n",
            "Epoch 2/10\n",
            "5000/5000 [==============================] - 106s 21ms/step - loss: 0.0133 - acc: 0.9955 - val_loss: 0.0225 - val_acc: 0.9933\n",
            "Epoch 3/10\n",
            "5000/5000 [==============================] - 106s 21ms/step - loss: 0.0090 - acc: 0.9969 - val_loss: 0.0245 - val_acc: 0.9935\n",
            "Epoch 4/10\n",
            "5000/5000 [==============================] - 103s 21ms/step - loss: 0.0070 - acc: 0.9976 - val_loss: 0.0274 - val_acc: 0.9930\n",
            "Epoch 5/10\n",
            "5000/5000 [==============================] - 104s 21ms/step - loss: 0.0059 - acc: 0.9980 - val_loss: 0.0312 - val_acc: 0.9929\n",
            "Epoch 6/10\n",
            "5000/5000 [==============================] - 106s 21ms/step - loss: 0.0051 - acc: 0.9982 - val_loss: 0.0295 - val_acc: 0.9934\n",
            "Epoch 7/10\n",
            "5000/5000 [==============================] - 105s 21ms/step - loss: 0.0046 - acc: 0.9985 - val_loss: 0.0282 - val_acc: 0.9946\n",
            "Epoch 8/10\n",
            "5000/5000 [==============================] - 105s 21ms/step - loss: 0.0041 - acc: 0.9986 - val_loss: 0.0306 - val_acc: 0.9935\n",
            "Epoch 9/10\n",
            "5000/5000 [==============================] - 106s 21ms/step - loss: 0.0039 - acc: 0.9987 - val_loss: 0.0355 - val_acc: 0.9921\n",
            "Epoch 10/10\n",
            "5000/5000 [==============================] - 106s 21ms/step - loss: 0.0036 - acc: 0.9988 - val_loss: 0.0311 - val_acc: 0.9942\n",
            "\n",
            "MODEL STATS : | LAST TRAINING ACCURACY = 0.99879 | MAXIMUM VALIDATION ACCURACY = 0.9946 | TOTAL TIME TAKEN TO COMPLETE :  0:17:38.934062 \n",
            "\n",
            "\n",
            "TOTAL NUMBER OF PARAMETERS :  14869 \n",
            "\n",
            "\n",
            "\n",
            "SCORE CROSSED THRESHOLD :: 0.9940 <  0.9946 \n",
            "\n",
            "SCORE AT BATCH SIZE  256  IS :  [0.028222208515226294, 0.9946]\n",
            "====================================================================================================\n",
            "CPU times: user 1h 11min 47s, sys: 6min 46s, total: 1h 18min 33s\n",
            "Wall time: 55min 24s\n"
          ],
          "name": "stdout"
        }
      ]
    },
    {
      "cell_type": "markdown",
      "metadata": {
        "id": "BwHSCq7KMrzd",
        "colab_type": "text"
      },
      "source": [
        "## THIS ARCHITECTURE WAS GOOD AND HENCE WE GOT GOOD 99.4+% VALIDATION ACCURACY ON ALMOST ALL THE DIFFERENT BATCH SIZES."
      ]
    },
    {
      "cell_type": "code",
      "metadata": {
        "id": "mkX8JMv79q9r",
        "colab_type": "code",
        "outputId": "cfce439f-7138-44a1-ed71-bc4d460af7d2",
        "colab": {
          "base_uri": "https://localhost:8080/",
          "height": 85
        }
      },
      "source": [
        "print('MAXIMUM VALIDATION ACCURACY WITH BATCH SIZE 32 IS : 99.37')\n",
        "print('MAXIMUM VALIDATION ACCURACY WITH BATCH SIZE 64 IS : 99.37')\n",
        "print('MAXIMUM VALIDATION ACCURACY WITH BATCH SIZE 128 IS : 99.46')\n",
        "print('MAXIMUM VALIDATION ACCURACY WITH BATCH SIZE 256 IS : 99.46')"
      ],
      "execution_count": 0,
      "outputs": [
        {
          "output_type": "stream",
          "text": [
            "MAXIMUM VALIDATION ACCURACY WITH BATCH SIZE 32 IS : 99.37\n",
            "MAXIMUM VALIDATION ACCURACY WITH BATCH SIZE 64 IS : 99.37\n",
            "MAXIMUM VALIDATION ACCURACY WITH BATCH SIZE 128 IS : 99.46\n",
            "MAXIMUM VALIDATION ACCURACY WITH BATCH SIZE 256 IS : 99.46\n"
          ],
          "name": "stdout"
        }
      ]
    },
    {
      "cell_type": "code",
      "metadata": {
        "id": "_sf7dU3ONJoL",
        "colab_type": "code",
        "colab": {}
      },
      "source": [
        ""
      ],
      "execution_count": 0,
      "outputs": []
    }
  ]
}